{
 "cells": [
  {
   "cell_type": "code",
   "execution_count": 3,
   "metadata": {},
   "outputs": [],
   "source": [
    "import tensorflow as tf\n",
    "import keras as k"
   ]
  },
  {
   "cell_type": "code",
   "execution_count": 5,
   "metadata": {},
   "outputs": [],
   "source": [
    "import zipfile\n",
    "zip_path=r\"C:\\Users\\Krishika R\\Desktop\\BRAIN TUMOR DETECTION\\archive.zip\"\n",
    "extract_path=r\"C:\\Users\\Krishika R\\Desktop\\BRAIN TUMOR DETECTION\"\n",
    "\n",
    "with zipfile.ZipFile(zip_path,\"r\") as zip_ref:\n",
    "    zip_ref.extractall(extract_path)"
   ]
  },
  {
   "cell_type": "code",
   "execution_count": 12,
   "metadata": {},
   "outputs": [],
   "source": [
    "from tensorflow.keras.preprocessing.image import ImageDataGenerator\n",
    "\n",
    "train_dir=r\"C:\\Users\\Krishika R\\Desktop\\BRAIN TUMOR DETECTION\\Training\"\n",
    "test_dir=r\"C:\\Users\\Krishika R\\Desktop\\BRAIN TUMOR DETECTION\\Testing\"\n",
    "\n",
    "train_datagen=ImageDataGenerator(rescale=1.0/255.0)\n",
    "test_datagen=ImageDataGenerator(rescale=1.0/255.0)"
   ]
  },
  {
   "cell_type": "code",
   "execution_count": 14,
   "metadata": {},
   "outputs": [
    {
     "name": "stdout",
     "output_type": "stream",
     "text": [
      "Found 5712 images belonging to 4 classes.\n",
      "Found 1311 images belonging to 4 classes.\n"
     ]
    }
   ],
   "source": [
    "train_generator = train_datagen.flow_from_directory(\n",
    "    train_dir,\n",
    "    target_size=(150, 150),  # Adjust target size as needed\n",
    "    batch_size=32,\n",
    "    class_mode='categorical'  # Use 'categorical' for multi-class classification\n",
    ")\n",
    "test_gen=train_datagen.flow_from_directory(\n",
    "    test_dir,\n",
    "    target_size=(150,150),\n",
    "    batch_size=32,\n",
    "    class_mode=\"categorical\"\n",
    ")"
   ]
  },
  {
   "cell_type": "code",
   "execution_count": 15,
   "metadata": {},
   "outputs": [
    {
     "name": "stderr",
     "output_type": "stream",
     "text": [
      "c:\\Users\\Krishika R\\AppData\\Local\\Programs\\Python\\Python312\\Lib\\site-packages\\keras\\src\\layers\\convolutional\\base_conv.py:107: UserWarning: Do not pass an `input_shape`/`input_dim` argument to a layer. When using Sequential models, prefer using an `Input(shape)` object as the first layer in the model instead.\n",
      "  super().__init__(activity_regularizer=activity_regularizer, **kwargs)\n"
     ]
    }
   ],
   "source": [
    "from keras import layers as l\n",
    "model=keras.models.Sequential([\n",
    "    l.Conv2D(32,(3,3),activation=\"relu\",input_shape=(150,150,3)),\n",
    "    l.MaxPool2D(2,2),\n",
    "    l.Conv2D(64,(3,3),activation=\"relu\"),\n",
    "    l.MaxPool2D(2,2),\n",
    "    l.Conv2D(128,(3,3),activation=\"relu\"),\n",
    "    l.MaxPool2D(2,2),\n",
    "    l.Conv2D(256,(3,3),activation=\"relu\"),\n",
    "    l.MaxPool2D(2,2),\n",
    "    l.Flatten(),\n",
    "    l.Dense(128,activation=\"relu\"),\n",
    "    l.Dense(4,activation=\"softmax\")\n",
    "\n",
    "])"
   ]
  },
  {
   "cell_type": "code",
   "execution_count": 18,
   "metadata": {},
   "outputs": [],
   "source": [
    "model.compile(\n",
    "    optimizer=\"adam\",\n",
    "    loss=\"categorical_crossentropy\",\n",
    "    metrics=['accuracy']\n",
    ")"
   ]
  },
  {
   "cell_type": "code",
   "execution_count": 20,
   "metadata": {},
   "outputs": [
    {
     "name": "stdout",
     "output_type": "stream",
     "text": [
      "Epoch 1/4\n"
     ]
    },
    {
     "name": "stderr",
     "output_type": "stream",
     "text": [
      "c:\\Users\\Krishika R\\AppData\\Local\\Programs\\Python\\Python312\\Lib\\site-packages\\keras\\src\\trainers\\data_adapters\\py_dataset_adapter.py:121: UserWarning: Your `PyDataset` class should call `super().__init__(**kwargs)` in its constructor. `**kwargs` can include `workers`, `use_multiprocessing`, `max_queue_size`. Do not pass these arguments to `fit()`, as they will be ignored.\n",
      "  self._warn_if_super_not_called()\n"
     ]
    },
    {
     "name": "stdout",
     "output_type": "stream",
     "text": [
      "\u001b[1m179/179\u001b[0m \u001b[32m━━━━━━━━━━━━━━━━━━━━\u001b[0m\u001b[37m\u001b[0m \u001b[1m91s\u001b[0m 491ms/step - accuracy: 0.5743 - loss: 0.9509 - val_accuracy: 0.8101 - val_loss: 0.4865\n",
      "Epoch 2/4\n",
      "\u001b[1m179/179\u001b[0m \u001b[32m━━━━━━━━━━━━━━━━━━━━\u001b[0m\u001b[37m\u001b[0m \u001b[1m45s\u001b[0m 251ms/step - accuracy: 0.8623 - loss: 0.3682 - val_accuracy: 0.8070 - val_loss: 0.4934\n",
      "Epoch 3/4\n",
      "\u001b[1m179/179\u001b[0m \u001b[32m━━━━━━━━━━━━━━━━━━━━\u001b[0m\u001b[37m\u001b[0m \u001b[1m54s\u001b[0m 299ms/step - accuracy: 0.9019 - loss: 0.2641 - val_accuracy: 0.8642 - val_loss: 0.3307\n",
      "Epoch 4/4\n",
      "\u001b[1m179/179\u001b[0m \u001b[32m━━━━━━━━━━━━━━━━━━━━\u001b[0m\u001b[37m\u001b[0m \u001b[1m108s\u001b[0m 593ms/step - accuracy: 0.9281 - loss: 0.1884 - val_accuracy: 0.9108 - val_loss: 0.2227\n"
     ]
    },
    {
     "data": {
      "text/plain": [
       "<keras.src.callbacks.history.History at 0x20047978d40>"
      ]
     },
     "execution_count": 20,
     "metadata": {},
     "output_type": "execute_result"
    }
   ],
   "source": [
    "model.fit(\n",
    "    train_generator,\n",
    "    epochs=4,\n",
    "    validation_data=test_gen\n",
    ")"
   ]
  },
  {
   "cell_type": "code",
   "execution_count": 35,
   "metadata": {},
   "outputs": [
    {
     "name": "stdout",
     "output_type": "stream",
     "text": [
      "\u001b[1m1/1\u001b[0m \u001b[32m━━━━━━━━━━━━━━━━━━━━\u001b[0m\u001b[37m\u001b[0m \u001b[1m0s\u001b[0m 48ms/step\n",
      "glioma\n"
     ]
    }
   ],
   "source": [
    "import numpy as np\n",
    "import keras \n",
    "def load_and_preprocess_image(img_path,target_size):\n",
    "    img=keras.preprocessing.image.load_img(img_path,target_size=target_size)\n",
    "    img_arr=keras.preprocessing.image.img_to_array(img)\n",
    "    img_arr=np.expand_dims(img_arr,axis=0)\n",
    "    img_arr/=255.0\n",
    "    return img_arr\n",
    "path=r\"C:\\Users\\Krishika R\\Desktop\\BRAIN TUMOR DETECTION\\Testing\\glioma\\Te-gl_0010.jpg\"\n",
    "im=load_and_preprocess_image(path,(150,150))\n",
    "pred=model.predict(im)\n",
    "index=pred.argmax()\n",
    "if index==0:\n",
    "    print(\"glioma\")\n",
    "elif index==1:\n",
    "    print(\"meningoima\")\n",
    "elif index==2:\n",
    "    print(\"notumor\")\n",
    "elif index==3:\n",
    "    print(\"pituitary\")\n",
    "else:\n",
    "    print(\"invalid\")"
   ]
  }
 ],
 "metadata": {
  "kernelspec": {
   "display_name": "Python 3",
   "language": "python",
   "name": "python3"
  },
  "language_info": {
   "codemirror_mode": {
    "name": "ipython",
    "version": 3
   },
   "file_extension": ".py",
   "mimetype": "text/x-python",
   "name": "python",
   "nbconvert_exporter": "python",
   "pygments_lexer": "ipython3",
   "version": "3.12.4"
  }
 },
 "nbformat": 4,
 "nbformat_minor": 2
}
